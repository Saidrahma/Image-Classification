{
 "cells": [
  {
   "cell_type": "markdown",
   "metadata": {},
   "source": [
    "# Tutorial 2: \n",
    "# Image Classification Model: Convolution Neural Networks"
   ]
  },
  {
   "cell_type": "markdown",
   "metadata": {},
   "source": [
    "# 1- Importing libraries"
   ]
  },
  {
   "cell_type": "code",
   "execution_count": 2,
   "metadata": {},
   "outputs": [
    {
     "name": "stdout",
     "output_type": "stream",
     "text": [
      "Collecting package metadata (current_repodata.json): ...working... done\n",
      "Note: you may need to restart the kernel to use updated packages.\n"
     ]
    },
    {
     "name": "stderr",
     "output_type": "stream",
     "text": [
      "\n",
      "Building graph of deps:   0%|          | 0/3 [00:00<?, ?it/s]\n",
      "Examining @/win-64::__cuda==9.1=0:   0%|          | 0/3 [00:00<?, ?it/s]\n",
      "Examining keras:  33%|###3      | 1/3 [00:00<?, ?it/s]                  \n",
      "Examining python=3.8:  67%|######6   | 2/3 [00:01<00:00,  1.51it/s]\n",
      "Examining python=3.8: 100%|##########| 3/3 [00:01<00:00,  2.27it/s]\n",
      "                                                                   \n",
      "\n",
      "Determining conflicts:   0%|          | 0/3 [00:00<?, ?it/s]\n",
      "Examining conflict for __cuda:   0%|          | 0/3 [00:00<?, ?it/s]\n",
      "Examining conflict for keras python:  33%|###3      | 1/3 [00:00<?, ?it/s]\n",
      "                                                                          \n",
      "\n",
      "UnsatisfiableError: The following specifications were found\n",
      "to be incompatible with the existing python installation in your environment:\n",
      "\n",
      "Specifications:\n",
      "\n",
      "  - keras -> python[version='>=3.5,<3.6.0a0|>=3.6,<3.7.0a0']\n",
      "\n",
      "Your python: python=3.8\n",
      "\n",
      "If python is on the left-most side of the chain, that's the version you've asked for.\n",
      "When python appears to the right, that indicates that the thing on the left is somehow\n",
      "not available for the python version you are constrained to. Note that conda will not\n",
      "change your python version to a different minor version unless you explicitly specify\n",
      "that.\n",
      "\n",
      "The following specifications were found to be incompatible with your system:\n",
      "\n",
      "  - feature:/win-64::__cuda==9.1=0\n",
      "\n",
      "Your installed version is: 9.1\n",
      "\n",
      "\n"
     ]
    },
    {
     "name": "stdout",
     "output_type": "stream",
     "text": [
      "\n",
      "Solving environment: ...working... failed with initial frozen solve. Retrying with flexible solve.\n",
      "Solving environment: ...working... failed with repodata from current_repodata.json, will retry with next repodata source.\n",
      "Collecting package metadata (repodata.json): ...working... done\n",
      "Solving environment: ...working... failed with initial frozen solve. Retrying with flexible solve.\n",
      "Solving environment: ...working... \n",
      "Found conflicts! Looking for incompatible packages.\n",
      "This can take several minutes.  Press CTRL-C to abort.\n",
      "failed\n"
     ]
    }
   ],
   "source": [
    "conda install keras"
   ]
  },
  {
   "cell_type": "code",
   "execution_count": 1,
   "metadata": {},
   "outputs": [
    {
     "ename": "ModuleNotFoundError",
     "evalue": "No module named 'keras'",
     "output_type": "error",
     "traceback": [
      "\u001b[1;31m---------------------------------------------------------------------------\u001b[0m",
      "\u001b[1;31mModuleNotFoundError\u001b[0m                       Traceback (most recent call last)",
      "\u001b[1;32m<ipython-input-1-4c1209da645c>\u001b[0m in \u001b[0;36m<module>\u001b[1;34m\u001b[0m\n\u001b[1;32m----> 1\u001b[1;33m \u001b[1;32mfrom\u001b[0m \u001b[0mkeras\u001b[0m\u001b[1;33m.\u001b[0m\u001b[0mmodels\u001b[0m \u001b[1;32mimport\u001b[0m \u001b[0mSequential\u001b[0m\u001b[1;33m,\u001b[0m \u001b[0mload_model\u001b[0m\u001b[1;33m\u001b[0m\u001b[1;33m\u001b[0m\u001b[0m\n\u001b[0m\u001b[0;32m      2\u001b[0m \u001b[1;32mfrom\u001b[0m \u001b[0mkeras\u001b[0m\u001b[1;33m.\u001b[0m\u001b[0mlayers\u001b[0m \u001b[1;32mimport\u001b[0m \u001b[0mDense\u001b[0m\u001b[1;33m,\u001b[0m \u001b[0mDropout\u001b[0m\u001b[1;33m,\u001b[0m \u001b[0mActivation\u001b[0m\u001b[1;33m,\u001b[0m \u001b[0mFlatten\u001b[0m\u001b[1;33m\u001b[0m\u001b[1;33m\u001b[0m\u001b[0m\n\u001b[0;32m      3\u001b[0m \u001b[1;32mfrom\u001b[0m \u001b[0mkeras\u001b[0m\u001b[1;33m.\u001b[0m\u001b[0mlayers\u001b[0m \u001b[1;32mimport\u001b[0m \u001b[0mConv2D\u001b[0m\u001b[1;33m,\u001b[0m \u001b[0mMaxPooling2D\u001b[0m\u001b[1;33m\u001b[0m\u001b[1;33m\u001b[0m\u001b[0m\n\u001b[0;32m      4\u001b[0m \u001b[1;32mfrom\u001b[0m \u001b[0mkeras\u001b[0m\u001b[1;33m.\u001b[0m\u001b[0mpreprocessing\u001b[0m\u001b[1;33m.\u001b[0m\u001b[0mimage\u001b[0m \u001b[1;32mimport\u001b[0m \u001b[0mImageDataGenerator\u001b[0m\u001b[1;33m\u001b[0m\u001b[1;33m\u001b[0m\u001b[0m\n\u001b[0;32m      5\u001b[0m \u001b[1;32mfrom\u001b[0m \u001b[0mkeras\u001b[0m\u001b[1;33m.\u001b[0m\u001b[0moptimizers\u001b[0m \u001b[1;32mimport\u001b[0m \u001b[0mAdam\u001b[0m\u001b[1;33m\u001b[0m\u001b[1;33m\u001b[0m\u001b[0m\n",
      "\u001b[1;31mModuleNotFoundError\u001b[0m: No module named 'keras'"
     ]
    }
   ],
   "source": [
    "from keras.models import Sequential, load_model\n",
    "from keras.layers import Dense, Dropout, Activation, Flatten\n",
    "from keras.layers import Conv2D, MaxPooling2D\n",
    "from keras.preprocessing.image import ImageDataGenerator\n",
    "from keras.optimizers import Adam\n",
    "from keras.callbacks import TensorBoard\n",
    "\n",
    "import matplotlib.pyplot as plt\n",
    "from PIL import Image\n",
    "import numpy as np\n",
    "import time\n",
    "%matplotlib inline"
   ]
  },
  {
   "cell_type": "markdown",
   "metadata": {},
   "source": [
    "# 2- Data pre-processing and data augmentation"
   ]
  },
  {
   "cell_type": "code",
   "execution_count": 13,
   "metadata": {},
   "outputs": [
    {
     "name": "stdout",
     "output_type": "stream",
     "text": [
      "Image Shape: (28, 28)\n"
     ]
    },
    {
     "data": {
      "text/plain": [
       "<matplotlib.image.AxesImage at 0x1cf776ff100>"
      ]
     },
     "execution_count": 13,
     "metadata": {},
     "output_type": "execute_result"
    },
    {
     "data": {
      "image/png": "[encoded data removed]",
      "text/plain": [
       "<Figure size 432x288 with 1 Axes>"
      ]
     },
     "metadata": {
      "needs_background": "light"
     },
     "output_type": "display_data"
    }
   ],
   "source": [
    "import matplotlib.pyplot as plt\n",
    "from PIL import Image\n",
    "import numpy as np\n",
    "\n",
    "im = Image.open(\"data/testing/0/346.jpg\")\n",
    "im = np.array(im)\n",
    "print(\"Image Shape:\", im.shape)\n",
    "plt.imshow(im, cmap=\"gray\")"
   ]
  },
  {
   "cell_type": "markdown",
   "metadata": {},
   "source": [
    "In order to make the most of our few training examples, we will \"augment\" them via a number of random transformations, so that our model would never see twice the exact same picture. This helps prevent overfitting and helps the model generalize better. In Keras this can be done via the keras.preprocessing.image.ImageDataGenerator class. This class allows you to:\n",
    "\n",
    "- configure random transformations and normalization operations to be done on your image data during training\n",
    "- instantiate generators of augmented image batches (and their labels) via .flow(data, labels) or .flow_from_directory(directory). These generators can then be used with the Keras model methods that accept data generators as inputs, fit_generator, evaluate_generator and predict_generator."
   ]
  },
  {
   "cell_type": "code",
   "execution_count": null,
   "metadata": {},
   "outputs": [],
   "source": [
    "val_datagen = ImageDataGenerator(rescale=1./255, # is a value by which we will multiply the data before any other processing\n",
    "                                  shear_range=0.2, #is for randomly applying shearing transformations\n",
    "                                  zoom_range=0.2, #is for randomly zooming inside pictures\n",
    "                                  horizontal_flip=True, #is for randomly flipping half of the images horizontally\n",
    "                                  rotation_range=40, #is a value in degrees (0-180), a range within which to randomly rotate pictures\n",
    "                                  width_shift_range=0.2, #which to randomly translate pictures vertically or horizontally\n",
    "                                  height_shift_range=0.2, \n",
    "                                  fill_mode='nearest' #is the strategy used for filling in newly created pixels, which can appear after a rotation or a width/height shift.\n",
    "                                 )\n",
    "\n",
    "\n",
    "validation_generator = val_datagen.flow_from_directory(\"data/testing\", batch_size=1, \n",
    "                                                        class_mode='categorical', \n",
    "                                                        color_mode='grayscale', \n",
    "                                                        target_size=(28,28)\n",
    "                                                       )"
   ]
  },
  {
   "cell_type": "code",
   "execution_count": null,
   "metadata": {},
   "outputs": [],
   "source": [
    "for x, y in validation_generator:\n",
    "    print(x.shape)\n",
    "    print(y)\n",
    "    plt.imshow(x[0,:,:,0], cmap='gray')\n",
    "    break"
   ]
  },
  {
   "cell_type": "code",
   "execution_count": null,
   "metadata": {},
   "outputs": [],
   "source": [
    "validation_generator.classes"
   ]
  },
  {
   "cell_type": "code",
   "execution_count": null,
   "metadata": {},
   "outputs": [],
   "source": [
    "dictclass = validation_generator.class_indices"
   ]
  },
  {
   "cell_type": "code",
   "execution_count": null,
   "metadata": {},
   "outputs": [],
   "source": [
    "dictclass['5']"
   ]
  },
  {
   "cell_type": "markdown",
   "metadata": {},
   "source": [
    "# 3- Object Oriented Programming"
   ]
  },
  {
   "cell_type": "code",
   "execution_count": null,
   "metadata": {},
   "outputs": [],
   "source": [
    "class Image_Classifier():\n",
    "    def __init__(self, train_folder='data/train', validation_folder='data/validation', \n",
    "                  inshape=(28,28,1), num_classes=10, num_train=1000, num_validation=200):\n",
    "        self.train_folder = train_folder\n",
    "        self.validation_folder =  validation_folder\n",
    "        self.inshape = inshape\n",
    "    \n",
    "        self.num_classes = num_classes\n",
    "        self.num_train = num_train\n",
    "        self.num_validation = num_validation\n",
    "        \n",
    "    def model(self, inshape=(28,28,1), num_classes=10, learning_rate=0.001):\n",
    "        '''\n",
    "            Three steps to Convolution\n",
    "                1. Convolution\n",
    "                2. Activation\n",
    "                3. Polling\n",
    "            Repeat Steps 1,2,3 for adding more hidden layers\n",
    "                4. After that make a fully connected network\n",
    "            This fully connected network gives ability to the CNN\n",
    "            to classify the samples\n",
    "        '''\n",
    "        model = Sequential()\n",
    "\n",
    "        model.add(Conv2D(filters=32, kernel_size=(3, 3), strides=(1, 1), padding='valid', activation='relu', \n",
    "                         kernel_initializer='glorot_uniform', bias_initializer='zeros', \n",
    "                         input_shape=inshape, data_format=\"channels_last\"))\n",
    "        \n",
    "        model.add(MaxPooling2D(pool_size=(2,2)))\n",
    "        \n",
    "        model.add(Conv2D(filters=32, kernel_size=(3, 3), strides=(1, 1), padding='valid', activation='relu', \n",
    "                         kernel_initializer='glorot_uniform', bias_initializer='zeros'))\n",
    "\n",
    "\n",
    "        model.add(MaxPooling2D(pool_size=(2,2)))\n",
    "        \n",
    "        model.add(Flatten())\n",
    "    \n",
    "        model.add(Dropout(rate=0.8)) # rate: rate of nodes to be keeped\n",
    "\n",
    "        model.add(Dense(units=512, activation='relu'))\n",
    "        \n",
    "        model.add(Dropout(rate=0.8))\n",
    "\n",
    "        model.add(Dense(num_classes, activation='softmax'))\n",
    "        \n",
    "        # Binary cross-entropy is for multi-label classifications, whereas categorical cross entropy is for multi-class classification where each example belongs to a single class.\n",
    "        optimizer = Adam(lr=learning_rate, beta_1=0.9, beta_2=0.999, epsilon=None, decay=0.0, amsgrad=False)\n",
    "        \n",
    "        model.compile(loss='categorical_crossentropy', optimizer=optimizer, metrics=['accuracy'])\n",
    "        \n",
    "        return model\n",
    "    \n",
    "    def train(self, batch_size=128, epochs=12, learning_rate=0.001, model_file=\"my_model.h5\", refine = False):\n",
    "        '''\n",
    "            Train Process\n",
    "        '''\n",
    "        # this is the augmentation configuration we will use for training\n",
    "        train_datagen = ImageDataGenerator(rescale=1./255, # is a value by which we will multiply the data before any other processing\n",
    "                                            shear_range=0.2, #is for randomly applying shearing transformations\n",
    "                                            zoom_range=0.2, #is for randomly zooming inside pictures\n",
    "                                            horizontal_flip=True, #is for randomly flipping half of the images horizontally\n",
    "                                            #rotation_range=40, #is a value in degrees (0-180), a range within which to randomly rotate pictures\n",
    "                                            #width_shift_range=0.2, #which to randomly translate pictures vertically or horizontally\n",
    "                                            #height_shift_range=0.2, \n",
    "                                            #fill_mode='nearest' #is the strategy used for filling in newly created pixels, which can appear after a rotation or a width/height shift.\n",
    "                                          )\n",
    "\n",
    "        # this is the augmentation configuration we will use for testing:\n",
    "        # only rescaling\n",
    "        test_datagen = ImageDataGenerator(rescale=1./255)\n",
    "\n",
    "        # this is a generator that will read pictures found in\n",
    "        # subfolers of 'data/train', and indefinitely generate\n",
    "        # batches of augmented image data\n",
    "        train_generator = train_datagen.flow_from_directory(self.train_folder,  # this is the target directory\n",
    "                                                            target_size=(28,28),  # all images will be resized to 150x150\n",
    "                                                            batch_size=batch_size, \n",
    "                                                            color_mode='grayscale',\n",
    "                                                            #class_mode='binary')  # since we use binary_crossentropy loss, we need binary labels\n",
    "                                                           )\n",
    "        # this is a similar generator, for validation data\n",
    "        validation_generator = test_datagen.flow_from_directory(self.validation_folder, \n",
    "                                                                target_size=(28,28),\n",
    "                                                                batch_size=batch_size, \n",
    "                                                                color_mode='grayscale',\n",
    "                                                                #class_mode='binary'\n",
    "                                                               )\n",
    "        if refine:\n",
    "            model = load_model(model_file)\n",
    "        else:\n",
    "            model = self.model(inshape=self.inshape, num_classes=self.num_classes, learning_rate=learning_rate)\n",
    "        \n",
    "        ts = time.time()\n",
    "        tbCallBack = TensorBoard(log_dir='./logs/' + str(ts), histogram_freq=0, write_graph=True, write_images=True)\n",
    "        \n",
    "        # To launch tensorbord\n",
    "        # tensorboard --logdir ./logs\n",
    "        model.fit_generator(train_generator,\n",
    "                            steps_per_epoch=self.num_train // batch_size,\n",
    "                            epochs=epochs,\n",
    "                            validation_data=validation_generator,\n",
    "                            validation_steps=self.num_validation // batch_size,\n",
    "                            callbacks=[tbCallBack])\n",
    "        \n",
    "        # You can use model.save(filepath) to save a Keras model into a single HDF5 file which will contain:\n",
    "        # 1- the architecture of the model, allowing to re-create the model\n",
    "        # 2- the weights of the model\n",
    "        # 3- the training configuration (loss, optimizer)\n",
    "        # 4- the state of the optimizer, allowing to resume training exactly where you left off.\n",
    "\n",
    "        model.save(model_file)\n",
    "        \n",
    "        \n",
    "    def predict(self, x, model_file=\"my_model.h5\"):\n",
    "        model = load_model(model_file)\n",
    "        prediction = model.predict(x)\n",
    "        return prediction"
   ]
  },
  {
   "cell_type": "markdown",
   "metadata": {},
   "source": [
    "# 4- Training Step"
   ]
  },
  {
   "cell_type": "code",
   "execution_count": null,
   "metadata": {},
   "outputs": [],
   "source": [
    "im_classifier = Image_Classifier(train_folder = 'data/training', \n",
    "                                 validation_folder = 'data/testing', \n",
    "                                 inshape=(28,28,1), num_classes=10,\n",
    "                                 num_train=60000, num_validation=1000)\n",
    "\n",
    "im_classifier.train(batch_size=128, epochs=12, learning_rate=0.001)\n",
    "# im_classifier.train(batch_size=128, epochs=20, learning_rate=0.0001, refine=True, model_file=\"my_model.h5\")"
   ]
  },
  {
   "cell_type": "markdown",
   "metadata": {},
   "source": [
    "# 5- Inference Step"
   ]
  },
  {
   "cell_type": "code",
   "execution_count": null,
   "metadata": {},
   "outputs": [],
   "source": [
    "im = Image.open(\"data/testing/6/870.jpg\")\n",
    "im = np.array(im)\n",
    "im = np.expand_dims(im, axis=0)\n",
    "im = np.expand_dims(im, axis=3)\n",
    "print(im.shape)\n",
    "im_classifier = Image_Classifier()\n",
    "prediction = im_classifier.predict(im, model_file=\"my_model.h5\")\n",
    "prediction_digit = prediction[0].argmax()\n",
    "print(\"The corresponding image digit is :\", prediction_digit)"
   ]
  }
 ],
 "metadata": {
  "kernelspec": {
   "display_name": "Python 3",
   "language": "python",
   "name": "python3"
  }
 },
 "nbformat": 4,
 "nbformat_minor": 4
}
